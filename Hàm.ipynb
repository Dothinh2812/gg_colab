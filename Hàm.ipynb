{
  "nbformat": 4,
  "nbformat_minor": 0,
  "metadata": {
    "colab": {
      "provenance": []
    },
    "kernelspec": {
      "name": "python3",
      "display_name": "Python 3"
    },
    "language_info": {
      "name": "python"
    }
  },
  "cells": [
    {
      "cell_type": "code",
      "metadata": {
        "colab": {
          "base_uri": "https://localhost:8080/"
        },
        "id": "3s2S07wQHRqP",
        "outputId": "70dc0daf-1761-46b5-e58b-673d84252d87"
      },
      "source": [
        "vt = \"elephen\"\n",
        "VH = vt.upper()\n",
        "print(VH)\n",
        "print(vt.count(\"e\"))"
      ],
      "execution_count": null,
      "outputs": [
        {
          "output_type": "stream",
          "text": [
            "ELEPHEN\n",
            "3\n"
          ],
          "name": "stdout"
        }
      ]
    },
    {
      "cell_type": "code",
      "metadata": {
        "colab": {
          "base_uri": "https://localhost:8080/"
        },
        "id": "LZrP0iHjJ7ee",
        "outputId": "0afae396-832a-47ec-bc75-d947e14bebd8"
      },
      "source": [
        "def hello(name):\n",
        "    print(\"hello\", name)\n",
        "    print(\"tôi tên là Robot\")\n",
        "    print(\"Tôi không ăn cơm được\")\n",
        "    print(\"tôi sử dụng điện\")\n",
        "\n",
        "hello(\"tuan\")\n",
        "hello(\"thịnh\")"
      ],
      "execution_count": null,
      "outputs": [
        {
          "output_type": "stream",
          "text": [
            "hello tuan\n",
            "tôi tên là Robot\n",
            "Tôi không ăn cơm được\n",
            "tôi sử dụng điện\n",
            "hello thịnh\n",
            "tôi tên là Robot\n",
            "Tôi không ăn cơm được\n",
            "tôi sử dụng điện\n"
          ],
          "name": "stdout"
        }
      ]
    },
    {
      "cell_type": "code",
      "metadata": {
        "colab": {
          "base_uri": "https://localhost:8080/"
        },
        "id": "yrlNY3EONp_h",
        "outputId": "02659e75-3c28-41a0-a7ca-5d5779aa2c53"
      },
      "source": [
        "def intro(family = \"Phạm\", name = \"Minh Tuấn\"):\n",
        "    print(family + name)\n",
        "intro(\"đỗ \")"
      ],
      "execution_count": null,
      "outputs": [
        {
          "output_type": "stream",
          "text": [
            "đỗ Minh Tuấn\n"
          ],
          "name": "stdout"
        }
      ]
    },
    {
      "cell_type": "code",
      "metadata": {
        "colab": {
          "base_uri": "https://localhost:8080/"
        },
        "id": "yRhZeEH8PVS-",
        "outputId": "a402ce49-8551-468a-d904-570ace9c6d6b"
      },
      "source": [
        "def gt(a):\n",
        "  if a==0:\n",
        "    return 1\n",
        "  else:\n",
        "    return gt(a-1)*a\n",
        "k, n = map(int,(input().split()))\n",
        "print(gt(n)//(gt(k)*gt(n-k)))"
      ],
      "execution_count": null,
      "outputs": [
        {
          "output_type": "stream",
          "text": [
            "6 7\n",
            "7\n"
          ],
          "name": "stdout"
        }
      ]
    },
    {
      "cell_type": "code",
      "metadata": {
        "colab": {
          "base_uri": "https://localhost:8080/"
        },
        "id": "xiXUG7WCY0VF",
        "outputId": "2ae90e64-4e8c-43dc-8099-c90bd825cb9d"
      },
      "source": [
        "def fibo(n):\n",
        "  if n == 1:\n",
        "    return 1\n",
        "  elif n==2:\n",
        "    return 1\n",
        "  else: \n",
        "    return fibo(n-1) + fibo(n-2)\n",
        "n = int(input())\n",
        "fibo(n)\n",
        "print(fibo(n))"
      ],
      "execution_count": null,
      "outputs": [
        {
          "output_type": "stream",
          "text": [
            "3\n",
            "2\n"
          ],
          "name": "stdout"
        }
      ]
    },
    {
      "cell_type": "code",
      "metadata": {
        "id": "MP0DVLQ_zc_n"
      },
      "source": [],
      "execution_count": null,
      "outputs": []
    },
    {
      "cell_type": "code",
      "metadata": {
        "id": "n4pvHczScrIn"
      },
      "source": [
        "def dem(n):\n",
        "  print(str(n).count(\"2\"))\n",
        "  print(str(n).count(\"3\"))\n",
        "  print(str(n).count(\"5\"))\n",
        "  print(str(n).count(\"7\"))\n",
        "\n",
        "n= input()\n",
        "dem(n)"
      ],
      "execution_count": null,
      "outputs": []
    },
    {
      "cell_type": "code",
      "metadata": {
        "id": "tXodId5vearz"
      },
      "source": [
        "n= int(input())\n",
        "a= n%10\n",
        "b=(n//10)%10\n",
        "c= (n//100)%10\n",
        "d  =(n//1000)%10\n",
        "e= (n//10000)%10\n",
        "print(a)\n",
        "print(b)\n",
        "print(c)\n",
        "print(d)\n",
        "print(e)\n"
      ],
      "execution_count": null,
      "outputs": []
    },
    {
      "cell_type": "code",
      "metadata": {
        "id": "9UB-XQjTnYmk"
      },
      "source": [
        " def dem(n, m):\n",
        "  i = 0\n",
        "  d = 0\n",
        "  for i in range(0, len(str(n))):\n",
        "    a = (n//10**i)%10\n",
        "    if a==m:\n",
        "      d = d + 1\n",
        "      i = i + 1\n",
        "  print(d)\n",
        "n= int(input())\n",
        "dem(n, 2)\n",
        "dem(n, 3)\n",
        "dem(n, 5)\n",
        "dem(n, 7)"
      ],
      "execution_count": null,
      "outputs": []
    },
    {
      "cell_type": "code",
      "metadata": {
        "id": "ZkJkwC5zQcCp",
        "colab": {
          "base_uri": "https://localhost:8080/"
        },
        "outputId": "954a0607-f9a2-41d5-a0a2-5bf60f7a55ba"
      },
      "source": [
        "#tìm số lượng số nguyên tố trong 1 số nguyên\n",
        "def dem(n, m):\n",
        "  d = 0 # biến đếm số lượng số m\n",
        "  while n>0:\n",
        "    a = n%10 # lấy chữ số hàng đơn vị\n",
        "    n = n//10 # xóa đi chữ số hàng đơn vị trong số n\n",
        "    if a==m: # nếu chữ số hàng đơn vị bằng m, tăng biến đếm lên 1\n",
        "      d = d + 1\n",
        "  print(d)\n",
        "n= int(input())\n",
        "dem(n, 2)\n",
        "dem(n, 3)\n",
        "dem(n, 5)\n",
        "dem(n, 7)\n"
      ],
      "execution_count": null,
      "outputs": [
        {
          "output_type": "stream",
          "text": [
            "665491616841651\n",
            "0\n",
            "0\n",
            "2\n",
            "0\n"
          ],
          "name": "stdout"
        }
      ]
    },
    {
      "cell_type": "code",
      "metadata": {
        "id": "j1r6vASKVV9C"
      },
      "source": [
        "def chia23(n):\n",
        "  d = 0\n",
        "  for i in range(2, n**2):\n",
        "    if i%2 ==0 or i//3 ==0:\n",
        "      d = d+1\n",
        "    print(d)\n",
        "n = int(input())\n",
        "chia23(n)"
      ],
      "execution_count": null,
      "outputs": []
    },
    {
      "cell_type": "code",
      "metadata": {
        "id": "W2V1bNiAZNee"
      },
      "source": [
        "def fibo(n):\n",
        "  if n == 1:\n",
        "    return 1\n",
        "  elif n==2:\n",
        "    return 1\n",
        "  else: \n",
        "    return fibo(n-1) + fibo(n-2)\n",
        "n, m = map(int, input().split())\n",
        "fibo(n)\n",
        "print(fibo(n)%m)"
      ],
      "execution_count": null,
      "outputs": []
    },
    {
      "cell_type": "code",
      "metadata": {
        "id": "YetCc78_bQxq"
      },
      "source": [
        "n= int(input())\n",
        "k = 0\n",
        "m = n\n",
        "mm = n\n",
        "while n>0:\n",
        "  n = n//10\n",
        "  k = k + 1\n",
        "t = 0\n",
        "while m > 0:\n",
        "  x = m%10\n",
        "  m = m//10\n",
        "  t = t + x**k\n",
        "if t ==mm:\n",
        "  print(\"yes\")\n",
        "else:\n",
        "  print(\"no\")\n",
        "\n"
      ],
      "execution_count": null,
      "outputs": []
    },
    {
      "cell_type": "code",
      "metadata": {
        "colab": {
          "base_uri": "https://localhost:8080/"
        },
        "id": "7KbLWeGdPyh-",
        "outputId": "a8d2f772-40d1-49d2-e919-009ac3517700"
      },
      "source": [
        " n = int(input())\n",
        " for i in range(2, n+1): #duyệt qua tất cả các phần tử từ 2 ->n xem có fai là ước\n",
        "  dem = 0;\n",
        "  for j in range(1, i+1):\n",
        "    if i%j==0:\n",
        "      dem = dem + 1\n",
        "  if dem ==2 and n%i==0:\n",
        "      print(i, end =\" \")"
      ],
      "execution_count": null,
      "outputs": [
        {
          "output_type": "stream",
          "text": [
            "20\n",
            "2 5 "
          ],
          "name": "stdout"
        }
      ]
    },
    {
      "cell_type": "code",
      "metadata": {
        "id": "sEOMUSigWaLk"
      },
      "source": [
        "n = int(input())\n",
        "#tìm tất cả các ước i của n mà i là số nguyên tố (1 ko fai SNT nên chạy từ 2)\n",
        "for i in range(2, n+1):\n",
        "  #tr tiên ktra xem i có fai là SNT không bằng cách đếm so_uoc_cua_i ==2 ko\n",
        "  so_uoc_cua_i =0\n",
        "  for j in range(1, i+1):\n",
        "    if i%j==0:\n",
        "      so_uoc_cua_i = so_uoc_cua_i + 1\n",
        "  if n%i == 0 and so_uoc_cua_i ==2:\n",
        "    print(i, end =\" \")"
      ],
      "execution_count": null,
      "outputs": []
    },
    {
      "cell_type": "code",
      "metadata": {
        "colab": {
          "base_uri": "https://localhost:8080/"
        },
        "id": "NSJHuv2DZ5MS",
        "outputId": "b5e66d6d-0ed4-4644-b794-56897d9caf8f"
      },
      "source": [
        "n= int(input())\n",
        "i = 1\n",
        "d = 0\n",
        "while i*i <=n:\n",
        "  if n%i==0:\n",
        "    if i*i == n:\n",
        "      d= d + 1\n",
        "    else:\n",
        "      d = d+2 \n",
        "  i = i + 1\n",
        "print(d)"
      ],
      "execution_count": null,
      "outputs": [
        {
          "output_type": "stream",
          "text": [
            "9\n",
            "3\n"
          ],
          "name": "stdout"
        }
      ]
    },
    {
      "cell_type": "code",
      "metadata": {
        "id": "cn-TN6lXcN0a",
        "colab": {
          "base_uri": "https://localhost:8080/"
        },
        "outputId": "61c8ef87-a2a4-4c67-8473-7629ed30513f"
      },
      "source": [
        "def UC(a, b):\n",
        "  if b == 0:\n",
        "    return a\n",
        "  else: \n",
        "    return UC(b, a%b)\n",
        "a, b = map(int, (input()).split())\n",
        "UC(a, b)\n",
        "print(UC(a, b))"
      ],
      "execution_count": null,
      "outputs": [
        {
          "output_type": "stream",
          "text": [
            "6 9\n",
            "3\n"
          ],
          "name": "stdout"
        }
      ]
    },
    {
      "cell_type": "code",
      "metadata": {
        "colab": {
          "base_uri": "https://localhost:8080/"
        },
        "id": "3yuHCpgC7Md7",
        "outputId": "2466aa1b-35be-4445-ea5c-89bca4984222"
      },
      "source": [
        "#BCNN\n",
        "def UC(a, b):\n",
        "  if b == 0:\n",
        "    return a\n",
        "  else: \n",
        "    return UC(b, a%b)\n",
        "def BC(a, b):\n",
        "  x = a*b//UC(a, b)\n",
        "  return x\n",
        "a, b = map(int, (input()).split())\n",
        "#BC(a, b)\n",
        "print(BC(a, b))"
      ],
      "execution_count": null,
      "outputs": [
        {
          "output_type": "stream",
          "text": [
            "866464 6464\n",
            "175025728\n"
          ],
          "name": "stdout"
        }
      ]
    },
    {
      "cell_type": "code",
      "metadata": {
        "id": "XcEZyHNtXTIE"
      },
      "source": [
        "#số các số chia hết cho 2 hoặc 3\n",
        "n=int(input())\n",
        "print(((n**2)//2)+((n**2)//3)-((n**2)//6))\n",
        "# số các số chia hết cho 2 là n^2//2\n",
        "\n"
      ],
      "execution_count": null,
      "outputs": []
    },
    {
      "cell_type": "code",
      "metadata": {
        "id": "uuy7Noe-L1VQ"
      },
      "source": [
        "#số lượng số chia hết cho  2 số \n",
        "def ucln(a,b):\n",
        "  if b==0:\n",
        "    return a\n",
        "  else: \n",
        "    return ucln(b, a%b)\n",
        "def bcnn(a, b):\n",
        "  return a*b/ucln\n",
        "def count(n, a):\n",
        "  return n//a\n",
        "\n",
        "n, a, b = map(int, input().split())\n",
        "print(count(n, a)- count(n, b) + count(n, bcnn(a,b)))"
      ],
      "execution_count": null,
      "outputs": []
    },
    {
      "cell_type": "code",
      "metadata": {
        "id": "GpWqZmcoL5uM"
      },
      "source": [
        "# số chia hết cho 2 hoặc 3\n",
        "n  = int(input())\n",
        "print((n**2//2)+n**2//3)-(n**2//6)"
      ],
      "execution_count": null,
      "outputs": []
    },
    {
      "cell_type": "code",
      "metadata": {
        "id": "pLSQaLEgNnjb"
      },
      "source": [
        "#chia hết cho 2 hoặc 3\n",
        "def count(n, a):\n",
        "  return n//a\n",
        "n =int(input())\n",
        "print(count(n*n, 2)+count(n*n, 3) - count(n*n, 6))"
      ],
      "execution_count": null,
      "outputs": []
    },
    {
      "cell_type": "code",
      "metadata": {
        "colab": {
          "base_uri": "https://localhost:8080/"
        },
        "id": "dk9B4H9LbPK9",
        "outputId": "9a54ad77-4c1a-4277-b7e9-6fd9aebd8373"
      },
      "source": [
        "# mũ modulo\n",
        "def g(m, n, k):\n",
        "  if n==0:\n",
        "    return 1\n",
        "  elif n%2==0:\n",
        "    v = g(m, n/2, k)\n",
        "    return (v*v)%k\n",
        "  else:\n",
        "    v = g(m, n//2, k)\n",
        "    return (v*v*m)%k\n",
        "\n",
        "m, n, k = map(int, input().split())\n",
        "print(g(m, n, k))"
      ],
      "execution_count": null,
      "outputs": [
        {
          "output_type": "stream",
          "text": [
            "2 3 5\n",
            "3\n"
          ],
          "name": "stdout"
        }
      ]
    },
    {
      "cell_type": "code",
      "metadata": {
        "id": "MNma8hj0dbdM"
      },
      "source": [
        "#\n"
      ],
      "execution_count": null,
      "outputs": []
    },
    {
      "cell_type": "code",
      "metadata": {
        "colab": {
          "base_uri": "https://localhost:8080/"
        },
        "id": "h3D1hEI6dc-P",
        "outputId": "9a54ad77-4c1a-4277-b7e9-6fd9aebd8373"
      },
      "source": [
        "# mũ modulo\n",
        "def g(m, n, k):\n",
        "  if n==0:\n",
        "    return 1\n",
        "  elif n%2==0:\n",
        "    v = g(m, n/2, k)\n",
        "    return (v*v)%k\n",
        "  else:\n",
        "    v = g(m, n//2, k)\n",
        "    return (v*v*m)%k\n",
        "\n",
        "m, n, k = map(int, input().split())\n",
        "print(g(m, n, k))"
      ],
      "execution_count": null,
      "outputs": [
        {
          "output_type": "stream",
          "text": [
            "2 3 5\n",
            "3\n"
          ],
          "name": "stdout"
        }
      ]
    },
    {
      "cell_type": "code",
      "metadata": {
        "colab": {
          "base_uri": "https://localhost:8080/"
        },
        "id": "75J2Vb66hQ6P",
        "outputId": "4255487f-86cb-4e34-8639-17341a3e14fb"
      },
      "source": [
        "#code thầy giải bài 05 Fibo và Modulo\n",
        "def multArr(A,B,mod):\n",
        "  C = [[0,0],[0,0]]\n",
        "  for i in range(0,2):\n",
        "    for j in range(0,2):\n",
        "      for k in range(0,2):\n",
        "        C[i][j] = (C[i][j] + A[i][k]*B[k][j])%mod\n",
        "  return C\n",
        "\n",
        "def g(A,n,k):\n",
        "  if n==0:\n",
        "    return [[1,0],[0,1]]\n",
        "  elif n%2==0:\n",
        "    v = g(A,n//2,k)\n",
        "    return multArr(v,v,k)\n",
        "  else:\n",
        "    v = g(A,n//2,k)\n",
        "    return multArr(multArr(v,v,k),A,k)\n",
        "\n",
        "n,m = map(int,input().split())\n",
        "if n<=2:\n",
        "  print(1)\n",
        "else:\n",
        "  A = [[1,1],[1,0]]\n",
        "  An = g(A,n-2,m)\n",
        "  f1 = (An[0][0] + An[0][1])%m\n",
        "  print(f1)\n"
      ],
      "execution_count": null,
      "outputs": [
        {
          "output_type": "stream",
          "text": [
            "2 3\n",
            "1\n"
          ],
          "name": "stdout"
        }
      ]
    }
  ]
}